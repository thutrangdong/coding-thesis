{
 "cells": [
  {
   "cell_type": "markdown",
   "metadata": {},
   "source": [
    "## Publication Volume"
   ]
  },
  {
   "cell_type": "markdown",
   "metadata": {},
   "source": [
    "#### Importing notebooks"
   ]
  },
  {
   "cell_type": "code",
   "execution_count": 1,
   "metadata": {
    "collapsed": true
   },
   "outputs": [],
   "source": [
    "%%capture\n",
    "%run '01. Data Retrieval.ipynb'"
   ]
  },
  {
   "cell_type": "markdown",
   "metadata": {},
   "source": [
    "#### Importing packages"
   ]
  },
  {
   "cell_type": "code",
   "execution_count": 2,
   "metadata": {
    "collapsed": true
   },
   "outputs": [],
   "source": [
    "from bs4 import BeautifulSoup\n",
    "from selenium import webdriver\n",
    "import re"
   ]
  },
  {
   "cell_type": "markdown",
   "metadata": {},
   "source": [
    "#### Constants"
   ]
  },
  {
   "cell_type": "code",
   "execution_count": 3,
   "metadata": {
    "collapsed": true
   },
   "outputs": [],
   "source": [
    "publication_volume_title = 'publication volume'\n",
    "no_results = 'Ihre Suchanfrage ergab 0 Treffer'\n",
    "\n",
    "starting_date = datetime.date(2011, 5, 1)\n",
    "ending_date = datetime.date(2017, 11, 18)"
   ]
  },
  {
   "cell_type": "code",
   "execution_count": 4,
   "metadata": {
    "collapsed": true
   },
   "outputs": [],
   "source": [
    "amount_publications = []\n",
    "\n",
    "delta = ending_date - starting_date\n",
    "dates = pandas.date_range(starting_date, starting_date + datetime.timedelta(delta.days), freq='D')\n",
    "\n",
    "browser = webdriver.Firefox()"
   ]
  },
  {
   "cell_type": "markdown",
   "metadata": {},
   "source": [
    "### 1. Getting Publication Volume Data"
   ]
  },
  {
   "cell_type": "code",
   "execution_count": null,
   "metadata": {
    "collapsed": true
   },
   "outputs": [],
   "source": [
    "for current_date in dates:\n",
    "\n",
    "    current_date_day = current_date.strftime('%d')\n",
    "    current_date_month = current_date.strftime('%m')\n",
    "    current_date_year = current_date.strftime('%Y')\n",
    "    \n",
    "    base_url = 'https://www.genios.de/dosearch?explicitSearch=true&q=bitcoin&searchRestriction=&dbShortcut=%3A2%3AALLEQUELLENNEU-1_%3A2%3AALLEQUELLENNEU&searchMask=5461&TI%2CUT%2CDZ%2CBT%2COT%2CSE%2CSL=&NN%2CAU%2CMM%2CZ2=&CO%2CC2%2CTA%2CKA%2CVA%2CZ1=&CT%2CZ4%2CKW=&BR%2CGW%2CN1%2CN2%2CNC%2CND%2CSC%2CWZ%2CZ5%2CAI%2CBC%2CKN%2CTN%2CVN%2CK0%2CB4=&Z3%2CCN%2CCE%2CKC%2CTC%2CVC=&timeFilterType=on&DT_from='+current_date_day+'.'+current_date_month+'.'+current_date_year+'&DT_to='+current_date_day+'.'+current_date_month+'.'+current_date_year+'&x=70&y=13'\n",
    "    \n",
    "    #scrape website\n",
    "    browser.get(base_url)\n",
    "    html = browser.page_source\n",
    "    soup = BeautifulSoup(html, 'html.parser')\n",
    "    items_current = soup.find('div', {'class': 'moduleResultTextHeader'}).getText()\n",
    "    \n",
    "    #get amount of publications on that day\n",
    "    if items_current == no_results:\n",
    "        value = 0\n",
    "    else:\n",
    "        value = re.search('\\(([^\\)]+)\\)', items_current).group(1)\n",
    "        value = int(value)\n",
    "\n",
    "    amount_publications.append(value)"
   ]
  },
  {
   "cell_type": "code",
   "execution_count": 100,
   "metadata": {
    "collapsed": true
   },
   "outputs": [],
   "source": [
    "#create new dataframe for publications\n",
    "publications = pandas.DataFrame({'date': dates, 'publications_volume': amount_publications})\n",
    "publications = publications.set_index('date')"
   ]
  },
  {
   "cell_type": "markdown",
   "metadata": {},
   "source": [
    "### 2. Merging data"
   ]
  },
  {
   "cell_type": "code",
   "execution_count": 127,
   "metadata": {},
   "outputs": [
    {
     "data": {
      "text/html": [
       "<div>\n",
       "<style>\n",
       "    .dataframe thead tr:only-child th {\n",
       "        text-align: right;\n",
       "    }\n",
       "\n",
       "    .dataframe thead th {\n",
       "        text-align: left;\n",
       "    }\n",
       "\n",
       "    .dataframe tbody tr th {\n",
       "        vertical-align: top;\n",
       "    }\n",
       "</style>\n",
       "<table border=\"1\" class=\"dataframe\">\n",
       "  <thead>\n",
       "    <tr style=\"text-align: right;\">\n",
       "      <th></th>\n",
       "      <th>bitcoin_price</th>\n",
       "      <th>search_volume</th>\n",
       "      <th>publications_volume</th>\n",
       "    </tr>\n",
       "    <tr>\n",
       "      <th>date</th>\n",
       "      <th></th>\n",
       "      <th></th>\n",
       "      <th></th>\n",
       "    </tr>\n",
       "  </thead>\n",
       "  <tbody>\n",
       "    <tr>\n",
       "      <th>2011-05-01</th>\n",
       "      <td>3.0331</td>\n",
       "      <td>0.704634</td>\n",
       "      <td>0</td>\n",
       "    </tr>\n",
       "    <tr>\n",
       "      <th>2011-05-02</th>\n",
       "      <td>3.2000</td>\n",
       "      <td>0.493244</td>\n",
       "      <td>0</td>\n",
       "    </tr>\n",
       "    <tr>\n",
       "      <th>2011-05-03</th>\n",
       "      <td>3.4100</td>\n",
       "      <td>0.493244</td>\n",
       "      <td>0</td>\n",
       "    </tr>\n",
       "    <tr>\n",
       "      <th>2011-05-04</th>\n",
       "      <td>3.4061</td>\n",
       "      <td>0.422781</td>\n",
       "      <td>0</td>\n",
       "    </tr>\n",
       "    <tr>\n",
       "      <th>2011-05-05</th>\n",
       "      <td>3.3330</td>\n",
       "      <td>0.493244</td>\n",
       "      <td>0</td>\n",
       "    </tr>\n",
       "  </tbody>\n",
       "</table>\n",
       "</div>"
      ],
      "text/plain": [
       "            bitcoin_price  search_volume  publications_volume\n",
       "date                                                         \n",
       "2011-05-01         3.0331       0.704634                    0\n",
       "2011-05-02         3.2000       0.493244                    0\n",
       "2011-05-03         3.4100       0.493244                    0\n",
       "2011-05-04         3.4061       0.422781                    0\n",
       "2011-05-05         3.3330       0.493244                    0"
      ]
     },
     "execution_count": 127,
     "metadata": {},
     "output_type": "execute_result"
    }
   ],
   "source": [
    "#merge data\n",
    "alternative_data = pandas.concat([bpi, google, publications], axis=1)\n",
    "\n",
    "#output data\n",
    "alternative_data.head()"
   ]
  },
  {
   "cell_type": "code",
   "execution_count": 128,
   "metadata": {},
   "outputs": [
    {
     "data": {
      "text/plain": [
       "<matplotlib.text.Text at 0x11ed1cb38>"
      ]
     },
     "execution_count": 128,
     "metadata": {},
     "output_type": "execute_result"
    },
    {
     "data": {
      "image/png": "[encoded data removed]",
      "text/plain": [
       "<matplotlib.figure.Figure at 0x11e2d0ef0>"
      ]
     },
     "metadata": {},
     "output_type": "display_data"
    }
   ],
   "source": [
    "#plot data\n",
    "fig = matplotlib.pyplot.figure()\n",
    "ax = fig.add_subplot(111)\n",
    "ax.grid()\n",
    "lns1 = ax.plot(alternative_data.index, alternative_data.publications_volume, label = publication_volume_title, color ='g')\n",
    "ax2 = ax.twinx()\n",
    "lns2 = ax2.plot(alternative_data.index, alternative_data.search_volume, label = search_volume_title, color = 'r')\n",
    "ax3 = ax.twinx()\n",
    "lns3 = ax3.plot(alternative_data.index, alternative_data.bitcoin_price, label = bitcoin_title, color = 'b')\n",
    "\n",
    "rspine = ax3.spines['right']\n",
    "rspine.set_position(('axes', 1.15))\n",
    "\n",
    "lns = lns1+lns2+lns3\n",
    "labs = [l.get_label() for l in lns]\n",
    "ax.legend(lns, labs, loc=2)\n",
    "\n",
    "ax.set_xlabel(\"date\")\n",
    "\n",
    "ax.set_ylabel(publication_volume_title)\n",
    "ax2.set_ylabel(search_volume_title)\n",
    "ax3.set_ylabel(bitcoin_title)"
   ]
  }
 ],
 "metadata": {
  "kernelspec": {
   "display_name": "Python 3",
   "language": "python",
   "name": "python3"
  },
  "language_info": {
   "codemirror_mode": {
    "name": "ipython",
    "version": 3
   },
   "file_extension": ".py",
   "mimetype": "text/x-python",
   "name": "python",
   "nbconvert_exporter": "python",
   "pygments_lexer": "ipython3",
   "version": "3.6.1"
  }
 },
 "nbformat": 4,
 "nbformat_minor": 2
}
