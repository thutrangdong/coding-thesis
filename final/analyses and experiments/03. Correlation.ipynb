{
 "cells": [
  {
   "cell_type": "markdown",
   "metadata": {},
   "source": [
    "#### Importing notebooks"
   ]
  },
  {
   "cell_type": "code",
   "execution_count": 1,
   "metadata": {
    "collapsed": true
   },
   "outputs": [],
   "source": [
    "%%capture\n",
    "%run '01. Data Retrieval.ipynb'"
   ]
  },
  {
   "cell_type": "markdown",
   "metadata": {},
   "source": [
    "#### Importing packages"
   ]
  },
  {
   "cell_type": "code",
   "execution_count": 45,
   "metadata": {
    "collapsed": true
   },
   "outputs": [],
   "source": [
    "import scipy.stats"
   ]
  },
  {
   "cell_type": "markdown",
   "metadata": {},
   "source": [
    "### 1. Pearson Correlation"
   ]
  },
  {
   "cell_type": "code",
   "execution_count": 46,
   "metadata": {},
   "outputs": [
    {
     "data": {
      "text/plain": [
       "0.91606726054634846"
      ]
     },
     "execution_count": 46,
     "metadata": {},
     "output_type": "execute_result"
    }
   ],
   "source": [
    "pearson_correlation = scipy.stats.pearsonr(data.bitcoin_price, data.search_volume)[0]\n",
    "pearson_correlation"
   ]
  },
  {
   "cell_type": "markdown",
   "metadata": {},
   "source": [
    "### 2. Cross Correlation"
   ]
  },
  {
   "cell_type": "code",
   "execution_count": 2,
   "metadata": {},
   "outputs": [
    {
     "data": {
      "text/plain": [
       "array([  5479.89784091,   9254.50116939,  13156.03593442, ...,\n",
       "          705.2563    ,    456.5473    ,    194.1184    ])"
      ]
     },
     "execution_count": 2,
     "metadata": {},
     "output_type": "execute_result"
    }
   ],
   "source": [
    "cross_correlation = numpy.correlate(data.search_volume, data.bitcoin_price, 'full')\n",
    "cross_correlation"
   ]
  },
  {
   "cell_type": "code",
   "execution_count": 49,
   "metadata": {},
   "outputs": [
    {
     "data": {
      "text/plain": [
       "array([ 0.2085011 ,  0.20991412,  0.21207908,  0.21418099,  0.21707301,\n",
       "        0.21948678,  0.22089461,  0.22236323,  0.2238766 ,  0.22582436,\n",
       "        0.22691456,  0.22527197,  0.22353957,  0.22171298,  0.22004285,\n",
       "        0.2184244 ,  0.21696494,  0.21584804,  0.21450256,  0.21282022,\n",
       "        0.21094949])"
      ]
     },
     "execution_count": 49,
     "metadata": {},
     "output_type": "execute_result"
    }
   ],
   "source": [
    "#shorten cross_correlation to 10 results around the center which is at 0 'delay in days'.\n",
    "variance = 10\n",
    "center = int(cross_correlation.size/2)\n",
    "cross_correlation_subset = cross_correlation[center-variance:center+1+variance]\n",
    "\n",
    "#normalize cross_correlation\n",
    "normalized_cross_correlation_subset = cross_correlation_subset / numpy.linalg.norm(cross_correlation_subset)\n",
    "normalized_cross_correlation_subset "
   ]
  },
  {
   "cell_type": "code",
   "execution_count": 50,
   "metadata": {},
   "outputs": [
    {
     "data": {
      "text/plain": [
       "<matplotlib.text.Text at 0x11f713eb8>"
      ]
     },
     "execution_count": 50,
     "metadata": {},
     "output_type": "execute_result"
    },
    {
     "data": {
      "image/png": "[encoded data removed]",
      "text/plain": [
       "<matplotlib.figure.Figure at 0x121b7c9e8>"
      ]
     },
     "metadata": {},
     "output_type": "display_data"
    }
   ],
   "source": [
    "#plot histogram of cross correlation with shortened result set\n",
    "ax = matplotlib.pyplot.subplot(111)\n",
    "ax.bar(range(-variance, variance+1, 1), normalized_cross_correlation_subset)\n",
    "ax.grid()\n",
    "ax.set_xlabel('search volume delay in days')\n",
    "ax.set_ylabel('cross correlation')"
   ]
  },
  {
   "cell_type": "code",
   "execution_count": 17,
   "metadata": {},
   "outputs": [
    {
     "data": {
      "text/plain": [
       "<matplotlib.text.Text at 0x12116e7f0>"
      ]
     },
     "execution_count": 17,
     "metadata": {},
     "output_type": "execute_result"
    },
    {
     "data": {
      "image/png": "[encoded data removed]",
      "text/plain": [
       "<matplotlib.figure.Figure at 0x120fd36a0>"
      ]
     },
     "metadata": {},
     "output_type": "display_data"
    }
   ],
   "source": [
    "#calculate cross correlation result to the power of 50 to make difference more visible\n",
    "#inspired by https://stackoverflow.com/a/40329682\n",
    "y = [x**50 for x in normalized_cross_correlation_subset]\n",
    "\n",
    "#plot histogram once again\n",
    "ax = matplotlib.pyplot.subplot(111)\n",
    "ax.bar(range(-variance,variance+1,1), y)\n",
    "ax.grid()\n",
    "ax.set_xlabel('search volume delay in days')\n",
    "ax.set_ylabel('cross correlation')"
   ]
  }
 ],
 "metadata": {
  "kernelspec": {
   "display_name": "Python 3",
   "language": "python",
   "name": "python3"
  },
  "language_info": {
   "codemirror_mode": {
    "name": "ipython",
    "version": 3
   },
   "file_extension": ".py",
   "mimetype": "text/x-python",
   "name": "python",
   "nbconvert_exporter": "python",
   "pygments_lexer": "ipython3",
   "version": "3.6.1"
  }
 },
 "nbformat": 4,
 "nbformat_minor": 2
}
