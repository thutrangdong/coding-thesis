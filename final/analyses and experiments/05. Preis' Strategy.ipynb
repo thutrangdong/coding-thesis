{
 "cells": [
  {
   "cell_type": "markdown",
   "metadata": {},
   "source": [
    "## Preis' Strategy"
   ]
  },
  {
   "cell_type": "markdown",
   "metadata": {},
   "source": [
    "#### Importing notebooks"
   ]
  },
  {
   "cell_type": "code",
   "execution_count": 1,
   "metadata": {
    "collapsed": true
   },
   "outputs": [],
   "source": [
    "%%capture\n",
    "%run '01. Data Retrieval.ipynb'"
   ]
  },
  {
   "cell_type": "markdown",
   "metadata": {},
   "source": [
    "#### Settings"
   ]
  },
  {
   "cell_type": "code",
   "execution_count": 2,
   "metadata": {
    "collapsed": true
   },
   "outputs": [],
   "source": [
    "#disable warnings for chained assigments\n",
    "pandas.options.mode.chained_assignment = None"
   ]
  },
  {
   "cell_type": "markdown",
   "metadata": {},
   "source": [
    "Source code has been chiefly replicated from:\n",
    "\n",
    "https://github.com/twiecki/replicate_google_trends/blob/master/goog_repl.ipynb\n",
    "\n",
    "(Last Accessed 26 January 2018)"
   ]
  },
  {
   "cell_type": "markdown",
   "metadata": {},
   "source": [
    "#### Functions"
   ]
  },
  {
   "cell_type": "code",
   "execution_count": 3,
   "metadata": {
    "collapsed": true
   },
   "outputs": [],
   "source": [
    "#function to be used later\n",
    "def calculate_returns(delta_time_in_days):\n",
    "    \n",
    "    data['order'] = 0\n",
    "    \n",
    "    #rolling mean for delta_time_in_days\n",
    "    #shift(1), so value gets written to the 'delta_time_in_daysth' row\n",
    "    data['rolling_mean_search_volume']  = data['search_volume'].\\\n",
    "    rolling(delta_time_in_days).mean().shift(1)\n",
    "    \n",
    "    #if search_volume > rolling_mean_search_volume -> set sell signal\n",
    "    data['order'][data.search_volume > data.rolling_mean_search_volume.shift(1)] = -1\n",
    "\n",
    "    #if search_volume < rolling_mean_search_volume -> set buy signal\n",
    "    data['order'][data.search_volume < data.rolling_mean_search_volume.shift(1)] = 1\n",
    "    \n",
    "    #calculates daily returns for both google-trends-based strategy\n",
    "    #and buy and hold strategy.\n",
    "    #log because time additive:\n",
    "    #explained here: https://www.youtube.com/watch?v=PtoUlt3V0CI \n",
    "    data['google_returns'] = data.order * numpy.log(data.bitcoin_price.shift(-1))\\\n",
    "    - data.order * numpy.log(data.bitcoin_price)\n",
    "    data['buy_hold_returns'] = numpy.log(data.bitcoin_price.shift(-1))\\\n",
    "    - numpy.log(data.bitcoin_price)\n",
    "    \n",
    "    #calculates total and return.\n",
    "    #subtract by initial investment which is -100%\n",
    "    data['total_google_returns'] = numpy.exp(data.google_returns.cumsum()) - 1\n",
    "    data['total_buy_hold_returns'] = numpy.exp(data.buy_hold_returns.cumsum()) -1\n",
    "\n",
    "    return data"
   ]
  },
  {
   "cell_type": "markdown",
   "metadata": {},
   "source": [
    "### 1. Find most lucrative delta_time in days"
   ]
  },
  {
   "cell_type": "code",
   "execution_count": 4,
   "metadata": {},
   "outputs": [
    {
     "data": {
      "text/html": [
       "<div>\n",
       "<style>\n",
       "    .dataframe thead tr:only-child th {\n",
       "        text-align: right;\n",
       "    }\n",
       "\n",
       "    .dataframe thead th {\n",
       "        text-align: left;\n",
       "    }\n",
       "\n",
       "    .dataframe tbody tr th {\n",
       "        vertical-align: top;\n",
       "    }\n",
       "</style>\n",
       "<table border=\"1\" class=\"dataframe\">\n",
       "  <thead>\n",
       "    <tr style=\"text-align: right;\">\n",
       "      <th></th>\n",
       "      <th>return in percent</th>\n",
       "    </tr>\n",
       "    <tr>\n",
       "      <th>time_period_in_days</th>\n",
       "      <th></th>\n",
       "    </tr>\n",
       "  </thead>\n",
       "  <tbody>\n",
       "    <tr>\n",
       "      <th>1</th>\n",
       "      <td>8.183209</td>\n",
       "    </tr>\n",
       "    <tr>\n",
       "      <th>2</th>\n",
       "      <td>7.082759</td>\n",
       "    </tr>\n",
       "    <tr>\n",
       "      <th>3</th>\n",
       "      <td>10.593672</td>\n",
       "    </tr>\n",
       "    <tr>\n",
       "      <th>4</th>\n",
       "      <td>8.745960</td>\n",
       "    </tr>\n",
       "    <tr>\n",
       "      <th>5</th>\n",
       "      <td>-0.060275</td>\n",
       "    </tr>\n",
       "  </tbody>\n",
       "</table>\n",
       "</div>"
      ],
      "text/plain": [
       "                     return in percent\n",
       "time_period_in_days                   \n",
       "1                             8.183209\n",
       "2                             7.082759\n",
       "3                            10.593672\n",
       "4                             8.745960\n",
       "5                            -0.060275"
      ]
     },
     "execution_count": 4,
     "metadata": {},
     "output_type": "execute_result"
    }
   ],
   "source": [
    "#calculate all returns for all delta_time_limit up to 30 days\n",
    "#and store in its own dataframe.\n",
    "delta_time_limit = 30\n",
    "\n",
    "index = list(range(1, delta_time_limit+1))\n",
    "\n",
    "#init dataframe\n",
    "google_based_return = pandas.DataFrame(index=index, columns=['return in percent'])\n",
    "google_based_return = google_based_return.fillna(0.0)\n",
    "google_based_return.index.name = 'time_period_in_days'\n",
    "\n",
    "#do calculation\n",
    "for value in index:        \n",
    "    data = calculate_returns(value)\n",
    "    #iloc -2 gets last valid value\n",
    "    google_based_return['return in percent'][value] = \\\n",
    "    data['total_google_returns'].iloc[-2]    \n",
    "    \n",
    "google_based_return.head()"
   ]
  },
  {
   "cell_type": "code",
   "execution_count": 5,
   "metadata": {},
   "outputs": [
    {
     "data": {
      "text/plain": [
       "2563.0236062114659"
      ]
     },
     "execution_count": 5,
     "metadata": {},
     "output_type": "execute_result"
    }
   ],
   "source": [
    "#buy and hold return (irrespective )\n",
    "data['total_buy_hold_returns'].iloc[-2]"
   ]
  },
  {
   "cell_type": "code",
   "execution_count": 6,
   "metadata": {},
   "outputs": [
    {
     "data": {
      "text/plain": [
       "<matplotlib.legend.Legend at 0x11e79e198>"
      ]
     },
     "execution_count": 6,
     "metadata": {},
     "output_type": "execute_result"
    },
    {
     "data": {
      "image/png": "[encoded data removed]",
      "text/plain": [
       "<matplotlib.figure.Figure at 0x10f4576d8>"
      ]
     },
     "metadata": {},
     "output_type": "display_data"
    }
   ],
   "source": [
    "#plot for returns dependant of delta time in days. Peak at day 3.\n",
    "#a delta time of 3 days brings highest return\n",
    "ax = google_based_return.plot(color='b')\n",
    "ax.grid()\n",
    "ax.set_xlabel('delta time in days')\n",
    "ax.set_ylabel('return in %')\n",
    "ax.legend(('return in %',), loc=0) #loc 0: best"
   ]
  },
  {
   "cell_type": "code",
   "execution_count": 7,
   "metadata": {},
   "outputs": [
    {
     "data": {
      "text/plain": [
       "3"
      ]
     },
     "execution_count": 7,
     "metadata": {},
     "output_type": "execute_result"
    }
   ],
   "source": [
    "max_delta = max(google_based_return.idxmax())\n",
    "max_delta"
   ]
  },
  {
   "cell_type": "markdown",
   "metadata": {},
   "source": [
    "### 2. Comparison of Google-Trends based strategy with Buy and Hold strategy"
   ]
  },
  {
   "cell_type": "code",
   "execution_count": 8,
   "metadata": {},
   "outputs": [
    {
     "data": {
      "text/plain": [
       "<matplotlib.legend.Legend at 0x11e2e0ac8>"
      ]
     },
     "execution_count": 8,
     "metadata": {},
     "output_type": "execute_result"
    },
    {
     "data": {
      "image/png": "[encoded data removed]",
      "text/plain": [
       "<matplotlib.figure.Figure at 0x11e5b5898>"
      ]
     },
     "metadata": {},
     "output_type": "display_data"
    }
   ],
   "source": [
    "#plot returns\n",
    "data = calculate_returns(max_delta)\n",
    "\n",
    "ax = (data['total_google_returns']*100).plot(color='r')\n",
    "ax = (data['total_buy_hold_returns']*100).plot(color='b')\n",
    "ax.grid()\n",
    "ax.set_xlabel('date')\n",
    "ax.set_ylabel('return in %')\n",
    "ax.legend(('total google returns', 'total buy and hold returns'), loc=2)"
   ]
  }
 ],
 "metadata": {
  "kernelspec": {
   "display_name": "Python 3",
   "language": "python",
   "name": "python3"
  },
  "language_info": {
   "codemirror_mode": {
    "name": "ipython",
    "version": 3
   },
   "file_extension": ".py",
   "mimetype": "text/x-python",
   "name": "python",
   "nbconvert_exporter": "python",
   "pygments_lexer": "ipython3",
   "version": "3.6.1"
  }
 },
 "nbformat": 4,
 "nbformat_minor": 2
}
