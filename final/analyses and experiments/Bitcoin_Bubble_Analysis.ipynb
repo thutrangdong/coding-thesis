{
 "cells": [
  {
   "cell_type": "markdown",
   "metadata": {},
   "source": [
    "#### Importing notebooks"
   ]
  },
  {
   "cell_type": "code",
   "execution_count": 1,
   "metadata": {
    "collapsed": true
   },
   "outputs": [],
   "source": [
    "%%capture\n",
    "%run '01_Getting_Data.ipynb'"
   ]
  },
  {
   "cell_type": "code",
   "execution_count": 2,
   "metadata": {
    "collapsed": true
   },
   "outputs": [],
   "source": [
    "#get data\n",
    "bitcoin_bubble = pandas.read_csv(\"../data/bitcoin_bubble_google_trends.csv\", ',')\n",
    "\n",
    "bitcoin_bubble = bitcoin_bubble.iloc[1:]\n",
    "bitcoin_bubble.columns = ['search_volume_for_bitcoin_bubble']\n",
    "bitcoin_bubble['search_volume_for_bitcoin_bubble'] = bitcoin_bubble['search_volume_for_bitcoin_bubble'].apply(pandas.to_numeric)\n",
    "\n",
    "bitcoin_bubble.index.names = ['date']\n",
    "bitcoin_bubble.index = bitcoin_bubble.index + \"-15\"\n",
    "bitcoin_bubble.index = pandas.to_datetime(bitcoin_bubble.index, format=\"%Y-%m-%d\")"
   ]
  },
  {
   "cell_type": "code",
   "execution_count": 6,
   "metadata": {},
   "outputs": [],
   "source": [
    "dummy = pandas.concat([bitcoin_bubble, bpi], axis=1)\n",
    "\n",
    "dummy.search_volume_for_bitcoin_bubble = dummy.search_volume_for_bitcoin_bubble.interpolate(method='linear', axis=0).ffill().bfill()"
   ]
  },
  {
   "cell_type": "code",
   "execution_count": 7,
   "metadata": {},
   "outputs": [
    {
     "data": {
      "text/plain": [
       "<matplotlib.text.Text at 0x11aea3438>"
      ]
     },
     "execution_count": 7,
     "metadata": {},
     "output_type": "execute_result"
    },
    {
     "data": {
      "image/png": "[encoded data removed]",
      "text/plain": [
       "<matplotlib.figure.Figure at 0x11b2f6b00>"
      ]
     },
     "metadata": {},
     "output_type": "display_data"
    }
   ],
   "source": [
    "#plot data\n",
    "fig = matplotlib.pyplot.figure()\n",
    "ax = fig.add_subplot(111)\n",
    "ax.grid()\n",
    "lns1 = ax.plot(dummy.index, dummy.bitcoin_price, label = bitcoin_title, color ='b')\n",
    "ax2 = ax.twinx()\n",
    "lns2 = ax2.plot(dummy.index, dummy.search_volume_for_bitcoin_bubble, label = 'search volume for \"bitcoin bubble\"', color = 'r')\n",
    "\n",
    "lns = lns1+lns2\n",
    "labs = [l.get_label() for l in lns]\n",
    "ax.legend(lns, labs, loc=2)\n",
    "\n",
    "ax.set_xlabel(\"date\")\n",
    "\n",
    "ax.set_ylabel('search volume for \"bitcoin bubble\"')\n",
    "ax2.set_ylabel(bitcoin_title)"
   ]
  },
  {
   "cell_type": "code",
   "execution_count": 8,
   "metadata": {},
   "outputs": [
    {
     "data": {
      "text/html": [
       "<div>\n",
       "<style>\n",
       "    .dataframe thead tr:only-child th {\n",
       "        text-align: right;\n",
       "    }\n",
       "\n",
       "    .dataframe thead th {\n",
       "        text-align: left;\n",
       "    }\n",
       "\n",
       "    .dataframe tbody tr th {\n",
       "        vertical-align: top;\n",
       "    }\n",
       "</style>\n",
       "<table border=\"1\" class=\"dataframe\">\n",
       "  <thead>\n",
       "    <tr style=\"text-align: right;\">\n",
       "      <th></th>\n",
       "      <th>search_volume_for_bitcoin_bubble</th>\n",
       "      <th>bitcoin_price</th>\n",
       "    </tr>\n",
       "  </thead>\n",
       "  <tbody>\n",
       "    <tr>\n",
       "      <th>2011-05-01</th>\n",
       "      <td>0.0</td>\n",
       "      <td>3.0331</td>\n",
       "    </tr>\n",
       "    <tr>\n",
       "      <th>2011-05-02</th>\n",
       "      <td>0.0</td>\n",
       "      <td>3.2000</td>\n",
       "    </tr>\n",
       "    <tr>\n",
       "      <th>2011-05-03</th>\n",
       "      <td>0.0</td>\n",
       "      <td>3.4100</td>\n",
       "    </tr>\n",
       "    <tr>\n",
       "      <th>2011-05-04</th>\n",
       "      <td>0.0</td>\n",
       "      <td>3.4061</td>\n",
       "    </tr>\n",
       "    <tr>\n",
       "      <th>2011-05-05</th>\n",
       "      <td>0.0</td>\n",
       "      <td>3.3330</td>\n",
       "    </tr>\n",
       "  </tbody>\n",
       "</table>\n",
       "</div>"
      ],
      "text/plain": [
       "            search_volume_for_bitcoin_bubble  bitcoin_price\n",
       "2011-05-01                               0.0         3.0331\n",
       "2011-05-02                               0.0         3.2000\n",
       "2011-05-03                               0.0         3.4100\n",
       "2011-05-04                               0.0         3.4061\n",
       "2011-05-05                               0.0         3.3330"
      ]
     },
     "execution_count": 8,
     "metadata": {},
     "output_type": "execute_result"
    }
   ],
   "source": [
    "dummy.head()"
   ]
  },
  {
   "cell_type": "code",
   "execution_count": null,
   "metadata": {
    "collapsed": true
   },
   "outputs": [],
   "source": []
  }
 ],
 "metadata": {
  "kernelspec": {
   "display_name": "Python 3",
   "language": "python",
   "name": "python3"
  },
  "language_info": {
   "codemirror_mode": {
    "name": "ipython",
    "version": 3
   },
   "file_extension": ".py",
   "mimetype": "text/x-python",
   "name": "python",
   "nbconvert_exporter": "python",
   "pygments_lexer": "ipython3",
   "version": "3.6.1"
  }
 },
 "nbformat": 4,
 "nbformat_minor": 2
}
