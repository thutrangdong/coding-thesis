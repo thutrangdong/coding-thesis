{
 "cells": [
  {
   "cell_type": "code",
   "execution_count": null,
   "metadata": {
    "collapsed": true
   },
   "outputs": [],
   "source": [
    "from bs4 import BeautifulSoup\n",
    "from selenium import webdriver\n",
    "import datetime\n",
    "import re"
   ]
  },
  {
   "cell_type": "code",
   "execution_count": null,
   "metadata": {},
   "outputs": [],
   "source": [
    "starting_date = datetime.date(2012, 2, 4) #year, month, day\n",
    "ending_date = datetime.date(2017, 11, 18)\n",
    "\n",
    "delta = ending_date - starting_date\n",
    "browser = webdriver.Firefox()\n",
    "\n",
    "for current_date in (starting_date + datetime.timedelta(n) for n in range(0,delta.days+1)):\n",
    "\n",
    "    current_date_day = current_date.strftime('%-d')\n",
    "    current_date_month = current_date.strftime('%-m')\n",
    "    current_date_year = current_date.strftime('%Y')\n",
    "    base_url = \"https://www.google.de/search?q=bitcoin&biw=1680&bih=926&source=lnt&tbs=cdr:1,cd_min:\"+current_date_month+\"/\"+current_date_day+\"/\"+current_date_year+\",cd_max:\"+current_date_month+\"/\"+current_date_day+\"/\"+current_date_year+\"&tbm=nws&gws_rd=cr&dcr=0&ei=ZvEmWofaEYTFwALMh7PICQ\"\n",
    "    browser.get(base_url)\n",
    "    html = browser.page_source\n",
    "    soup = BeautifulSoup(html, \"html.parser\")\n",
    "    items_current = soup.find(\"div\", {\"id\": \"resultStats\"}).getText()\n",
    "    print(items_current)\n",
    "    value = re.search('(?<=Ungefähr )(.*)(?= Ergebnisse)', items_current).group(0)\n",
    "    value = value.replace('.', '')\n",
    "    print(current_date.strftime('%d/%m/%Y')+\"\\t\"+value)"
   ]
  },
  {
   "cell_type": "code",
   "execution_count": null,
   "metadata": {
    "collapsed": true
   },
   "outputs": [],
   "source": []
  }
 ],
 "metadata": {
  "kernelspec": {
   "display_name": "Python 3",
   "language": "python",
   "name": "python3"
  },
  "language_info": {
   "codemirror_mode": {
    "name": "ipython",
    "version": 3
   },
   "file_extension": ".py",
   "mimetype": "text/x-python",
   "name": "python",
   "nbconvert_exporter": "python",
   "pygments_lexer": "ipython3",
   "version": "3.6.1"
  }
 },
 "nbformat": 4,
 "nbformat_minor": 2
}
