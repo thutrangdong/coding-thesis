{
 "cells": [
  {
   "cell_type": "code",
   "execution_count": 8,
   "metadata": {
    "collapsed": true
   },
   "outputs": [],
   "source": [
    "from bs4 import BeautifulSoup\n",
    "from selenium import webdriver\n",
    "import datetime\n",
    "import re"
   ]
  },
  {
   "cell_type": "code",
   "execution_count": 14,
   "metadata": {},
   "outputs": [
    {
     "name": "stdout",
     "output_type": "stream",
     "text": [
      "About 20.000 results (0,09 seconds) \n"
     ]
    }
   ],
   "source": [
    "starting_date = datetime.date(2011, 5, 1) #year, month, day\n",
    "\n",
    "ending_date = datetime.date(2017, 11, 18)\n",
    "delta = ending_date - starting_date\n",
    "browser = webdriver.Firefox()\n",
    "\n",
    "for current_date in (starting_date + datetime.timedelta(n) for n in range(0,delta.days+1)):\n",
    "\n",
    "    current_date_day = current_date.strftime('%-d')\n",
    "    current_date_month = current_date.strftime('%-m')\n",
    "    current_date_year = current_date.strftime('%Y')\n",
    "    base_url = \"https://www.google.com/search?q=bitcoin&gl=us&hl=en&pws=0&biw=1280&bih=848&source=lnt&tbs=cdr:1,cd_min:\"+current_date_month+\"/\"+current_date_day+\"/\"+current_date_year+\",cd_max:\"+current_date_month+\"/\"+current_date_day+\"/\"+current_date_year+\"&tbm=nws\"\n",
    "    browser.get(base_url)\n",
    "    html = browser.page_source\n",
    "    soup = BeautifulSoup(html, \"html.parser\")\n",
    "    items_current = soup.find(\"div\", {\"id\": \"resultStats\"}).getText()\n",
    "    value = re.search('(?<=About )(.*)(?= results)', items_current).group(0)\n",
    "    value = value.replace('.', '')\n",
    "    print(current_date.strftime('%d/%m/%Y')+\"\\t\"+value)"
   ]
  },
  {
   "cell_type": "code",
   "execution_count": null,
   "metadata": {
    "collapsed": true
   },
   "outputs": [],
   "source": []
  }
 ],
 "metadata": {
  "kernelspec": {
   "display_name": "Python 3",
   "language": "python",
   "name": "python3"
  },
  "language_info": {
   "codemirror_mode": {
    "name": "ipython",
    "version": 3
   },
   "file_extension": ".py",
   "mimetype": "text/x-python",
   "name": "python",
   "nbconvert_exporter": "python",
   "pygments_lexer": "ipython3",
   "version": "3.6.1"
  }
 },
 "nbformat": 4,
 "nbformat_minor": 2
}
