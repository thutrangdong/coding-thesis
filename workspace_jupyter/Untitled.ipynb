{
 "cells": [
  {
   "cell_type": "code",
   "execution_count": 8,
   "metadata": {},
   "outputs": [],
   "source": [
    "%%capture\n",
    "%run '01_Getting_Data.ipynb'"
   ]
  },
  {
   "cell_type": "code",
   "execution_count": 23,
   "metadata": {},
   "outputs": [
    {
     "data": {
      "text/plain": [
       "DatetimeIndex(['2011-05-01', '2011-05-02', '2011-05-03', '2011-05-04',\n",
       "               '2011-05-05', '2011-05-06', '2011-05-07', '2011-05-08',\n",
       "               '2011-05-09', '2011-05-10',\n",
       "               ...\n",
       "               '2017-11-09', '2017-11-10', '2017-11-11', '2017-11-12',\n",
       "               '2017-11-13', '2017-11-14', '2017-11-15', '2017-11-16',\n",
       "               '2017-11-17', '2017-11-18'],\n",
       "              dtype='datetime64[ns]', length=2394, freq='D')"
      ]
     },
     "execution_count": 23,
     "metadata": {},
     "output_type": "execute_result"
    }
   ],
   "source": [
    "import pandas\n",
    "import numpy\n",
    "import datetime\n",
    "\n",
    "starting_date = datetime.date(2011, 5, 1)\n",
    "ending_date = datetime.date(2017, 11, 18)\n",
    "delta = ending_date - starting_date\n",
    "dates = pandas.date_range(starting_date, starting_date + timedelta(delta.days), freq='D')\n",
    "\n",
    "#np.random.seed(seed=1111)\n",
    "#data = np.random.randint(1, high=100, size=len(days))\n",
    "#df = pd.DataFrame({'test': days, 'col2': data})\n",
    "#df = df.set_index('date')\n",
    "#df.dtypes"
   ]
  },
  {
   "cell_type": "code",
   "execution_count": 10,
   "metadata": {},
   "outputs": [
    {
     "data": {
      "text/plain": [
       "DatetimeIndex(['2011-05-01', '2011-05-02', '2011-05-03', '2011-05-04',\n",
       "               '2011-05-05', '2011-05-06', '2011-05-07', '2011-05-08',\n",
       "               '2011-05-09', '2011-05-10',\n",
       "               ...\n",
       "               '2017-11-09', '2017-11-10', '2017-11-11', '2017-11-12',\n",
       "               '2017-11-13', '2017-11-14', '2017-11-15', '2017-11-16',\n",
       "               '2017-11-17', '2017-11-18'],\n",
       "              dtype='datetime64[ns]', name='date', length=2394, freq='D')"
      ]
     },
     "execution_count": 10,
     "metadata": {},
     "output_type": "execute_result"
    }
   ],
   "source": [
    "data.index"
   ]
  },
  {
   "cell_type": "code",
   "execution_count": 14,
   "metadata": {},
   "outputs": [
    {
     "data": {
      "text/plain": [
       "DatetimeIndex(['2017-11-18', '2017-11-19', '2017-11-20', '2017-11-21',\n",
       "               '2017-11-22', '2017-11-23', '2017-11-24', '2017-11-25'],\n",
       "              dtype='datetime64[ns]', name='test', freq=None)"
      ]
     },
     "execution_count": 14,
     "metadata": {},
     "output_type": "execute_result"
    }
   ],
   "source": [
    "df.index"
   ]
  },
  {
   "cell_type": "code",
   "execution_count": null,
   "metadata": {
    "collapsed": true
   },
   "outputs": [],
   "source": []
  }
 ],
 "metadata": {
  "kernelspec": {
   "display_name": "Python 3",
   "language": "python",
   "name": "python3"
  },
  "language_info": {
   "codemirror_mode": {
    "name": "ipython",
    "version": 3
   },
   "file_extension": ".py",
   "mimetype": "text/x-python",
   "name": "python",
   "nbconvert_exporter": "python",
   "pygments_lexer": "ipython3",
   "version": "3.6.1"
  }
 },
 "nbformat": 4,
 "nbformat_minor": 2
}
