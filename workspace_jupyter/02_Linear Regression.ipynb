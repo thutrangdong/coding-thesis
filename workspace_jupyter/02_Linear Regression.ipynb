{
 "cells": [
  {
   "cell_type": "markdown",
   "metadata": {},
   "source": [
    "## Simple Linear Regression"
   ]
  },
  {
   "cell_type": "markdown",
   "metadata": {},
   "source": [
    "#### Importing notebooks"
   ]
  },
  {
   "cell_type": "code",
   "execution_count": 69,
   "metadata": {
    "collapsed": true
   },
   "outputs": [],
   "source": [
    "%%capture\n",
    "%run '01_Getting_Data.ipynb'"
   ]
  },
  {
   "cell_type": "markdown",
   "metadata": {},
   "source": [
    "#### Importing packages"
   ]
  },
  {
   "cell_type": "code",
   "execution_count": 70,
   "metadata": {
    "collapsed": true
   },
   "outputs": [],
   "source": [
    "from sklearn import datasets, linear_model\n",
    "from sklearn.metrics import mean_squared_error, r2_score\n",
    "from math import sqrt"
   ]
  },
  {
   "cell_type": "markdown",
   "metadata": {},
   "source": [
    "### 1. Define X and Y values"
   ]
  },
  {
   "cell_type": "code",
   "execution_count": 71,
   "metadata": {},
   "outputs": [],
   "source": [
    "x = data.search_volume.values\n",
    "y = data.bitcoin_price.values\n",
    "\n",
    "length = len(x)\n",
    "\n",
    "x = x.reshape(length, 1)\n",
    "y = y.reshape(length, 1)"
   ]
  },
  {
   "cell_type": "markdown",
   "metadata": {},
   "source": [
    "### 2. Define Sizes for Training and Testing Sets"
   ]
  },
  {
   "cell_type": "markdown",
   "metadata": {},
   "source": [
    "#### Find most suitable size for testing data by iterating over all ranges that are below 20% of the existing data size. The most suitable size for testing data has the smallest Root Mean Square Error."
   ]
  },
  {
   "cell_type": "code",
   "execution_count": 72,
   "metadata": {},
   "outputs": [
    {
     "data": {
      "text/html": [
       "<div>\n",
       "<style>\n",
       "    .dataframe thead tr:only-child th {\n",
       "        text-align: right;\n",
       "    }\n",
       "\n",
       "    .dataframe thead th {\n",
       "        text-align: left;\n",
       "    }\n",
       "\n",
       "    .dataframe tbody tr th {\n",
       "        vertical-align: top;\n",
       "    }\n",
       "</style>\n",
       "<table border=\"1\" class=\"dataframe\">\n",
       "  <thead>\n",
       "    <tr style=\"text-align: right;\">\n",
       "      <th></th>\n",
       "      <th>Root Mean Square Error</th>\n",
       "    </tr>\n",
       "    <tr>\n",
       "      <th>test_size</th>\n",
       "      <th></th>\n",
       "    </tr>\n",
       "  </thead>\n",
       "  <tbody>\n",
       "    <tr>\n",
       "      <th>18</th>\n",
       "      <td>1439.09</td>\n",
       "    </tr>\n",
       "    <tr>\n",
       "      <th>19</th>\n",
       "      <td>1455.04</td>\n",
       "    </tr>\n",
       "    <tr>\n",
       "      <th>17</th>\n",
       "      <td>1463.9</td>\n",
       "    </tr>\n",
       "    <tr>\n",
       "      <th>13</th>\n",
       "      <td>1471.88</td>\n",
       "    </tr>\n",
       "    <tr>\n",
       "      <th>11</th>\n",
       "      <td>1483.63</td>\n",
       "    </tr>\n",
       "    <tr>\n",
       "      <th>16</th>\n",
       "      <td>1494.34</td>\n",
       "    </tr>\n",
       "    <tr>\n",
       "      <th>10</th>\n",
       "      <td>1495.78</td>\n",
       "    </tr>\n",
       "    <tr>\n",
       "      <th>20</th>\n",
       "      <td>1497.85</td>\n",
       "    </tr>\n",
       "    <tr>\n",
       "      <th>12</th>\n",
       "      <td>1498.05</td>\n",
       "    </tr>\n",
       "    <tr>\n",
       "      <th>9</th>\n",
       "      <td>1503.59</td>\n",
       "    </tr>\n",
       "  </tbody>\n",
       "</table>\n",
       "</div>"
      ],
      "text/plain": [
       "          Root Mean Square Error\n",
       "test_size                       \n",
       "18                       1439.09\n",
       "19                       1455.04\n",
       "17                        1463.9\n",
       "13                       1471.88\n",
       "11                       1483.63\n",
       "16                       1494.34\n",
       "10                       1495.78\n",
       "20                       1497.85\n",
       "12                       1498.05\n",
       "9                        1503.59"
      ]
     },
     "execution_count": 72,
     "metadata": {},
     "output_type": "execute_result"
    }
   ],
   "source": [
    "max = round(length*0.2)\n",
    "columns = ['Root Mean Square Error']\n",
    "df = pandas.DataFrame(index=range(0,max), columns=columns)\n",
    "df.index.name = 'test_size'\n",
    "\n",
    "for value in range(1, max):\n",
    "    test_size = value\n",
    "    train_size = length - test_size\n",
    "\n",
    "    x_train = x[:train_size]\n",
    "    y_train = y[:train_size]\n",
    "\n",
    "    x_test = x[-test_size:]\n",
    "    y_test = y[-test_size:]\n",
    "\n",
    "    regression = linear_model.LinearRegression()\n",
    "    regression.fit(x_train, y_train)\n",
    "    y_predict = regression.predict(x_test)\n",
    "    rmse = sqrt(mean_squared_error(y_test, y_predict))\n",
    "    df.set_value(value, 'Root Mean Square Error', rmse)\n",
    "df.sort_values(by=['Root Mean Square Error']).head(10)"
   ]
  },
  {
   "cell_type": "markdown",
   "metadata": {},
   "source": [
    "Output above returns 18 as a suitable testing size. The table was sorted based on smallest Root Mean Square Error."
   ]
  },
  {
   "cell_type": "code",
   "execution_count": 73,
   "metadata": {
    "collapsed": true
   },
   "outputs": [],
   "source": [
    "test_size = 18\n",
    "train_size = length - test_size"
   ]
  },
  {
   "cell_type": "code",
   "execution_count": 74,
   "metadata": {
    "collapsed": true
   },
   "outputs": [],
   "source": [
    "x = x.reshape(length, 1)\n",
    "y = y.reshape(length, 1)\n",
    "\n",
    "x_train = x[:train_size]\n",
    "y_train = y[:train_size]\n",
    "\n",
    "x_test = x[-test_size:]\n",
    "y_test = y[-test_size:]"
   ]
  },
  {
   "cell_type": "markdown",
   "metadata": {},
   "source": [
    "### 2. Execute Linear Regression"
   ]
  },
  {
   "cell_type": "code",
   "execution_count": 75,
   "metadata": {},
   "outputs": [
    {
     "name": "stdout",
     "output_type": "stream",
     "text": [
      "coefficient: \t83.599999999999994\n",
      "intercept: \t-120.0\n"
     ]
    }
   ],
   "source": [
    "regression = linear_model.LinearRegression()\n",
    "regression.fit(x_train, y_train)\n",
    "\n",
    "coef = regression.coef_[0][0]\n",
    "intercept = regression.intercept_[0]\n",
    "\n",
    "print(\"coefficient: \\t\" + repr(round(coef,1)))\n",
    "print(\"intercept: \\t\" + repr(round(intercept,1)))"
   ]
  },
  {
   "cell_type": "markdown",
   "metadata": {},
   "source": [
    "Mathematical equation for red fitting line:\n",
    "\\begin{align}\n",
    "{f(x)} & = 83.6*x-120 \\\\\n",
    "\\end{align}"
   ]
  },
  {
   "cell_type": "code",
   "execution_count": 76,
   "metadata": {},
   "outputs": [
    {
     "data": {
      "text/plain": [
       "<matplotlib.text.Text at 0x122591278>"
      ]
     },
     "execution_count": 76,
     "metadata": {},
     "output_type": "execute_result"
    },
    {
     "data": {
      "image/png": "[encoded data removed]",
      "text/plain": [
       "<matplotlib.figure.Figure at 0x122a03470>"
      ]
     },
     "metadata": {},
     "output_type": "display_data"
    }
   ],
   "source": [
    "fig, ax = pyplot.subplots()\n",
    "ax.plot(x, coef * x + intercept, color='red')\n",
    "ax.scatter(x_train, y_train, color='blue')\n",
    "ax.set_xlabel(search_volume_title)\n",
    "ax.set_ylabel(bitcoin_title)"
   ]
  },
  {
   "cell_type": "code",
   "execution_count": 77,
   "metadata": {
    "collapsed": true
   },
   "outputs": [],
   "source": [
    "y_predict = regression.predict(x_test)"
   ]
  },
  {
   "cell_type": "code",
   "execution_count": 78,
   "metadata": {},
   "outputs": [
    {
     "name": "stdout",
     "output_type": "stream",
     "text": [
      "1439.0889905263239\n"
     ]
    }
   ],
   "source": [
    "rmse = sqrt(mean_squared_error(y_test, y_predict))\n",
    "print(rmse)"
   ]
  },
  {
   "cell_type": "code",
   "execution_count": 79,
   "metadata": {},
   "outputs": [
    {
     "data": {
      "text/plain": [
       "<matplotlib.text.Text at 0x11d9c8400>"
      ]
     },
     "execution_count": 79,
     "metadata": {},
     "output_type": "execute_result"
    },
    {
     "data": {
      "image/png": "[encoded data removed]",
      "text/plain": [
       "<matplotlib.figure.Figure at 0x11d815dd8>"
      ]
     },
     "metadata": {},
     "output_type": "display_data"
    }
   ],
   "source": [
    "fig, ax = pyplot.subplots()\n",
    "ax.scatter(x_train, y_train, color='blue', label = 'training data')\n",
    "ax.scatter(x_test, y_predict,  color='red', label = 'predicted data')\n",
    "ax.plot(x, coef * x + intercept, color='red', label = 'fitting line')\n",
    "ax.scatter(x_test, y_test,  color='green', label = 'actual data')\n",
    "ax.legend(loc=2)\n",
    "ax.set_xlabel(search_volume_title)\n",
    "ax.set_ylabel(bitcoin_title)"
   ]
  },
  {
   "cell_type": "code",
   "execution_count": 80,
   "metadata": {},
   "outputs": [
    {
     "data": {
      "text/plain": [
       "<matplotlib.text.Text at 0x11d971400>"
      ]
     },
     "execution_count": 80,
     "metadata": {},
     "output_type": "execute_result"
    },
    {
     "data": {
      "image/png": "[encoded data removed]",
      "text/plain": [
       "<matplotlib.figure.Figure at 0x11d76cfd0>"
      ]
     },
     "metadata": {},
     "output_type": "display_data"
    }
   ],
   "source": [
    "fig, ax = pyplot.subplots()\n",
    "ax.scatter(x_test, y_test,  color='green', label = 'actual data')\n",
    "#ax.scatter(x_test, y_predict,  color='red', label = 'predicted data')\n",
    "ax.plot(x_test, y_predict, color='red', linewidth=1, label = 'fitting line')\n",
    "ax.legend(loc=0)\n",
    "ax.set_xlabel(search_volume_title)\n",
    "ax.set_ylabel(bitcoin_title)"
   ]
  },
  {
   "cell_type": "code",
   "execution_count": 109,
   "metadata": {},
   "outputs": [
    {
     "name": "stdout",
     "output_type": "stream",
     "text": [
      "8.0028113529\n"
     ]
    }
   ],
   "source": [
    "error_delta = abs(y_predict-y_test)\n",
    "smallest_error_delta = numpy.amin(error_delta, axis=0)[0]\n",
    "print(smallest_error_delta)"
   ]
  }
 ],
 "metadata": {
  "kernelspec": {
   "display_name": "Python 3",
   "language": "python",
   "name": "python3"
  },
  "language_info": {
   "codemirror_mode": {
    "name": "ipython",
    "version": 3
   },
   "file_extension": ".py",
   "mimetype": "text/x-python",
   "name": "python",
   "nbconvert_exporter": "python",
   "pygments_lexer": "ipython3",
   "version": "3.6.1"
  }
 },
 "nbformat": 4,
 "nbformat_minor": 2
}
