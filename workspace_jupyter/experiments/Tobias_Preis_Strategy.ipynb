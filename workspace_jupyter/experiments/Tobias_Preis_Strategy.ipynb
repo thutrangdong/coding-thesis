{
 "cells": [
  {
   "cell_type": "markdown",
   "metadata": {},
   "source": [
    "#### Importing notebooks"
   ]
  },
  {
   "cell_type": "code",
   "execution_count": 26,
   "metadata": {
    "collapsed": true
   },
   "outputs": [],
   "source": [
    "%%capture\n",
    "%run '01_Getting_Data.ipynb'"
   ]
  },
  {
   "cell_type": "markdown",
   "metadata": {},
   "source": [
    "#### Settings"
   ]
  },
  {
   "cell_type": "code",
   "execution_count": 27,
   "metadata": {
    "collapsed": true
   },
   "outputs": [],
   "source": [
    "pandas.options.mode.chained_assignment = None"
   ]
  },
  {
   "cell_type": "markdown",
   "metadata": {},
   "source": [
    "#### Functions"
   ]
  },
  {
   "cell_type": "code",
   "execution_count": 28,
   "metadata": {
    "collapsed": true
   },
   "outputs": [],
   "source": [
    "def calculate_returns(delta_time_in_days):\n",
    "    \n",
    "    data['order'] = 0\n",
    "    \n",
    "    data['rolling_mean_search_volume']  = data['search_volume'].rolling(delta_time_in_days).mean().shift(1)\n",
    "    \n",
    "    data['order'][data.search_volume > data.rolling_mean_search_volume.shift(1)] = -1 # sell signal\n",
    "    data['order'][data.search_volume < data.rolling_mean_search_volume.shift(1)] = 1 # buy signal\n",
    "    \n",
    "    data['google_returns'] = data.order * numpy.log(data.bitcoin_price.shift(-1)) - data.order * numpy.log(data.bitcoin_price)\n",
    "    data['buy_hold_returns'] = numpy.log(data.bitcoin_price.shift(-1)) - numpy.log(data.bitcoin_price)\n",
    "    \n",
    "    data['total_google_returns'] = numpy.exp(data.google_returns.cumsum()) - 1\n",
    "    data['total_buy_hold_returns'] = numpy.exp(data.buy_hold_returns.cumsum()) -1\n",
    "\n",
    "    return data"
   ]
  },
  {
   "cell_type": "markdown",
   "metadata": {},
   "source": [
    "## 1. Tobias Preis' Google Trends based trading strategy"
   ]
  },
  {
   "cell_type": "markdown",
   "metadata": {},
   "source": [
    "### 1. Calculate ratio"
   ]
  },
  {
   "cell_type": "code",
   "execution_count": 29,
   "metadata": {},
   "outputs": [
    {
     "data": {
      "text/html": [
       "<div>\n",
       "<style>\n",
       "    .dataframe thead tr:only-child th {\n",
       "        text-align: right;\n",
       "    }\n",
       "\n",
       "    .dataframe thead th {\n",
       "        text-align: left;\n",
       "    }\n",
       "\n",
       "    .dataframe tbody tr th {\n",
       "        vertical-align: top;\n",
       "    }\n",
       "</style>\n",
       "<table border=\"1\" class=\"dataframe\">\n",
       "  <thead>\n",
       "    <tr style=\"text-align: right;\">\n",
       "      <th></th>\n",
       "      <th>google_buy_ratio</th>\n",
       "    </tr>\n",
       "  </thead>\n",
       "  <tbody>\n",
       "    <tr>\n",
       "      <th>0</th>\n",
       "      <td>0.000000</td>\n",
       "    </tr>\n",
       "    <tr>\n",
       "      <th>1</th>\n",
       "      <td>8.183209</td>\n",
       "    </tr>\n",
       "    <tr>\n",
       "      <th>2</th>\n",
       "      <td>7.082759</td>\n",
       "    </tr>\n",
       "    <tr>\n",
       "      <th>3</th>\n",
       "      <td>10.593672</td>\n",
       "    </tr>\n",
       "    <tr>\n",
       "      <th>4</th>\n",
       "      <td>8.745960</td>\n",
       "    </tr>\n",
       "  </tbody>\n",
       "</table>\n",
       "</div>"
      ],
      "text/plain": [
       "   google_buy_ratio\n",
       "0          0.000000\n",
       "1          8.183209\n",
       "2          7.082759\n",
       "3         10.593672\n",
       "4          8.745960"
      ]
     },
     "execution_count": 29,
     "metadata": {},
     "output_type": "execute_result"
    }
   ],
   "source": [
    "#code based on: https://github.com/twiecki/replicate_google_trends/blob/master/goog_repl.ipynb\n",
    "#log because time additive: https://www.youtube.com/watch?v=PtoUlt3V0CI \n",
    "\n",
    "delta_time_limit = 9\n",
    "delta_time_limit = delta_time_limit + 1\n",
    "\n",
    "index = list(range(0, delta_time_limit))\n",
    "\n",
    "ratio = pandas.DataFrame(index=index, columns=['google_buy_ratio'])\n",
    "ratio = ratio.fillna(0.0)\n",
    "\n",
    "for value in index:        \n",
    "    data = calculate_returns(value)\n",
    "    ratio['google_buy_ratio'][value] = data['total_google_returns'].iloc[-2]\n",
    "    \n",
    "ratio.head()"
   ]
  },
  {
   "cell_type": "code",
   "execution_count": 30,
   "metadata": {},
   "outputs": [
    {
     "data": {
      "text/plain": [
       "<matplotlib.legend.Legend at 0x11df83da0>"
      ]
     },
     "execution_count": 30,
     "metadata": {},
     "output_type": "execute_result"
    },
    {
     "data": {
      "image/png": "[encoded data removed]",
      "text/plain": [
       "<matplotlib.figure.Figure at 0x11df83470>"
      ]
     },
     "metadata": {},
     "output_type": "display_data"
    }
   ],
   "source": [
    "ax = ratio.plot(color='b')\n",
    "ax.grid()\n",
    "ax.set_xlabel('delta time in days')\n",
    "ax.set_ylabel('ratio')\n",
    "ax.legend(('ratio',), loc=0) #loc 0: best"
   ]
  },
  {
   "cell_type": "code",
   "execution_count": 33,
   "metadata": {},
   "outputs": [
    {
     "data": {
      "text/plain": [
       "3"
      ]
     },
     "execution_count": 33,
     "metadata": {},
     "output_type": "execute_result"
    }
   ],
   "source": [
    "max_delta = max(ratio.idxmax())\n",
    "max_delta"
   ]
  },
  {
   "cell_type": "markdown",
   "metadata": {},
   "source": [
    "### 3. Highest Ratio"
   ]
  },
  {
   "cell_type": "code",
   "execution_count": 34,
   "metadata": {},
   "outputs": [
    {
     "data": {
      "text/plain": [
       "<matplotlib.legend.Legend at 0x11e2ce978>"
      ]
     },
     "execution_count": 34,
     "metadata": {},
     "output_type": "execute_result"
    },
    {
     "data": {
      "image/png": "[encoded data removed]",
      "text/plain": [
       "<matplotlib.figure.Figure at 0x11ddb3ba8>"
      ]
     },
     "metadata": {},
     "output_type": "display_data"
    }
   ],
   "source": [
    "data = calculate_returns(max_delta)\n",
    "\n",
    "ax = (data['total_google_returns']*100).plot(color='r')\n",
    "ax = (data['total_buy_hold_returns']*100).plot(color='b')\n",
    "ax.grid()\n",
    "ax.set_xlabel('date')\n",
    "ax.set_ylabel('return in %')\n",
    "ax.legend(('total google returns', 'total buy and hold returns'), loc=2)"
   ]
  },
  {
   "cell_type": "code",
   "execution_count": null,
   "metadata": {
    "collapsed": true
   },
   "outputs": [],
   "source": []
  }
 ],
 "metadata": {
  "kernelspec": {
   "display_name": "Python 3",
   "language": "python",
   "name": "python3"
  },
  "language_info": {
   "codemirror_mode": {
    "name": "ipython",
    "version": 3
   },
   "file_extension": ".py",
   "mimetype": "text/x-python",
   "name": "python",
   "nbconvert_exporter": "python",
   "pygments_lexer": "ipython3",
   "version": "3.6.1"
  }
 },
 "nbformat": 4,
 "nbformat_minor": 2
}
