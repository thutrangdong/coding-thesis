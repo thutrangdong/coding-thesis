{
 "cells": [
  {
   "cell_type": "markdown",
   "metadata": {},
   "source": [
    "#### Imports"
   ]
  },
  {
   "cell_type": "code",
   "execution_count": 14,
   "metadata": {},
   "outputs": [
    {
     "data": {
      "text/plain": [
       "2394"
      ]
     },
     "execution_count": 14,
     "metadata": {},
     "output_type": "execute_result"
    }
   ],
   "source": [
    "len(bpi)"
   ]
  },
  {
   "cell_type": "code",
   "execution_count": 10,
   "metadata": {
    "collapsed": true
   },
   "outputs": [],
   "source": [
    "import requests\n",
    "import json\n",
    "import pandas\n",
    "from datetime import datetime\n",
    "\n",
    "import matplotlib\n",
    "from matplotlib import pyplot\n",
    "\n",
    "import numpy"
   ]
  },
  {
   "cell_type": "markdown",
   "metadata": {},
   "source": [
    "#### Settings"
   ]
  },
  {
   "cell_type": "code",
   "execution_count": 11,
   "metadata": {
    "collapsed": true
   },
   "outputs": [],
   "source": [
    "%matplotlib inline"
   ]
  },
  {
   "cell_type": "markdown",
   "metadata": {},
   "source": [
    "#### Constants"
   ]
  },
  {
   "cell_type": "code",
   "execution_count": 12,
   "metadata": {
    "collapsed": true
   },
   "outputs": [],
   "source": [
    "bitcoin_title = 'bitcoin price in USD'\n",
    "search_volume_title = 'search volume'"
   ]
  },
  {
   "cell_type": "markdown",
   "metadata": {},
   "source": [
    "### 1. Getting Bitcoin Price Data"
   ]
  },
  {
   "cell_type": "code",
   "execution_count": 13,
   "metadata": {},
   "outputs": [
    {
     "data": {
      "text/html": [
       "<div>\n",
       "<style>\n",
       "    .dataframe thead tr:only-child th {\n",
       "        text-align: right;\n",
       "    }\n",
       "\n",
       "    .dataframe thead th {\n",
       "        text-align: left;\n",
       "    }\n",
       "\n",
       "    .dataframe tbody tr th {\n",
       "        vertical-align: top;\n",
       "    }\n",
       "</style>\n",
       "<table border=\"1\" class=\"dataframe\">\n",
       "  <thead>\n",
       "    <tr style=\"text-align: right;\">\n",
       "      <th></th>\n",
       "      <th>bitcoin_price</th>\n",
       "    </tr>\n",
       "    <tr>\n",
       "      <th>date</th>\n",
       "      <th></th>\n",
       "    </tr>\n",
       "  </thead>\n",
       "  <tbody>\n",
       "    <tr>\n",
       "      <th>2011-05-01</th>\n",
       "      <td>3.0331</td>\n",
       "    </tr>\n",
       "    <tr>\n",
       "      <th>2011-05-02</th>\n",
       "      <td>3.2000</td>\n",
       "    </tr>\n",
       "    <tr>\n",
       "      <th>2011-05-03</th>\n",
       "      <td>3.4100</td>\n",
       "    </tr>\n",
       "    <tr>\n",
       "      <th>2011-05-04</th>\n",
       "      <td>3.4061</td>\n",
       "    </tr>\n",
       "    <tr>\n",
       "      <th>2011-05-05</th>\n",
       "      <td>3.3330</td>\n",
       "    </tr>\n",
       "  </tbody>\n",
       "</table>\n",
       "</div>"
      ],
      "text/plain": [
       "            bitcoin_price\n",
       "date                     \n",
       "2011-05-01         3.0331\n",
       "2011-05-02         3.2000\n",
       "2011-05-03         3.4100\n",
       "2011-05-04         3.4061\n",
       "2011-05-05         3.3330"
      ]
     },
     "execution_count": 13,
     "metadata": {},
     "output_type": "execute_result"
    }
   ],
   "source": [
    "#get data\n",
    "response = requests.get('https://api.coindesk.com/v1/bpi/historical/close.json?start=2011-05-01&end=2017-11-18')\n",
    "response_as_json = json.loads(response.content)\n",
    "\n",
    "#transform data\n",
    "bpi = pandas.DataFrame.from_dict(response_as_json)\n",
    "bpi.drop(['disclaimer', 'time'], axis=1, inplace=True)\n",
    "bpi.drop(['updated', 'updatedISO'], inplace=True)\n",
    "bpi = bpi.rename(columns={'bpi': 'bitcoin_price'})\n",
    "bpi.index.names = ['date']\n",
    "bpi.index = pandas.to_datetime(bpi.index, format=\"%Y-%m-%d\")\n",
    "\n",
    "#output data\n",
    "bpi.head()"
   ]
  },
  {
   "cell_type": "code",
   "execution_count": 5,
   "metadata": {},
   "outputs": [
    {
     "data": {
      "text/plain": [
       "<matplotlib.legend.Legend at 0x1139ed630>"
      ]
     },
     "execution_count": 5,
     "metadata": {},
     "output_type": "execute_result"
    },
    {
     "data": {
      "image/png": "[encoded data removed]",
      "text/plain": [
       "<matplotlib.figure.Figure at 0x1139ed5c0>"
      ]
     },
     "metadata": {},
     "output_type": "display_data"
    }
   ],
   "source": [
    "ax = bpi.plot(color='b')\n",
    "ax.grid()\n",
    "ax.set_ylabel(bitcoin_title)\n",
    "ax.legend((bitcoin_title,), loc=2) #loc 2: upper left"
   ]
  },
  {
   "cell_type": "markdown",
   "metadata": {},
   "source": [
    "### 2. Getting Google Trends Data"
   ]
  },
  {
   "cell_type": "code",
   "execution_count": 6,
   "metadata": {},
   "outputs": [
    {
     "data": {
      "text/html": [
       "<div>\n",
       "<style>\n",
       "    .dataframe thead tr:only-child th {\n",
       "        text-align: right;\n",
       "    }\n",
       "\n",
       "    .dataframe thead th {\n",
       "        text-align: left;\n",
       "    }\n",
       "\n",
       "    .dataframe tbody tr th {\n",
       "        vertical-align: top;\n",
       "    }\n",
       "</style>\n",
       "<table border=\"1\" class=\"dataframe\">\n",
       "  <thead>\n",
       "    <tr style=\"text-align: right;\">\n",
       "      <th></th>\n",
       "      <th>search_volume</th>\n",
       "    </tr>\n",
       "    <tr>\n",
       "      <th>date</th>\n",
       "      <th></th>\n",
       "    </tr>\n",
       "  </thead>\n",
       "  <tbody>\n",
       "    <tr>\n",
       "      <th>2011-05-01</th>\n",
       "      <td>0.704634</td>\n",
       "    </tr>\n",
       "    <tr>\n",
       "      <th>2011-05-02</th>\n",
       "      <td>0.493244</td>\n",
       "    </tr>\n",
       "    <tr>\n",
       "      <th>2011-05-03</th>\n",
       "      <td>0.493244</td>\n",
       "    </tr>\n",
       "    <tr>\n",
       "      <th>2011-05-04</th>\n",
       "      <td>0.422781</td>\n",
       "    </tr>\n",
       "    <tr>\n",
       "      <th>2011-05-05</th>\n",
       "      <td>0.493244</td>\n",
       "    </tr>\n",
       "  </tbody>\n",
       "</table>\n",
       "</div>"
      ],
      "text/plain": [
       "            search_volume\n",
       "date                     \n",
       "2011-05-01       0.704634\n",
       "2011-05-02       0.493244\n",
       "2011-05-03       0.493244\n",
       "2011-05-04       0.422781\n",
       "2011-05-05       0.493244"
      ]
     },
     "execution_count": 6,
     "metadata": {},
     "output_type": "execute_result"
    }
   ],
   "source": [
    "#get data\n",
    "google = pandas.read_csv(\"data/google_trends.csv\", \";\")\n",
    "\n",
    "#transform data\n",
    "google['date'] = pandas.to_datetime(google['date'], format=\"%d.%m.%y\")\n",
    "google['search_volume'] = google['search_volume'].str.replace(',','.')\n",
    "google['search_volume'] = google['search_volume'].apply(pandas.to_numeric)\n",
    "google.set_index('date', inplace=True)\n",
    "\n",
    "#output data\n",
    "google.head()"
   ]
  },
  {
   "cell_type": "code",
   "execution_count": 7,
   "metadata": {},
   "outputs": [
    {
     "data": {
      "text/plain": [
       "<matplotlib.legend.Legend at 0x1139ed320>"
      ]
     },
     "execution_count": 7,
     "metadata": {},
     "output_type": "execute_result"
    },
    {
     "data": {
      "image/png": "[encoded data removed]",
      "text/plain": [
       "<matplotlib.figure.Figure at 0x113b5d5f8>"
      ]
     },
     "metadata": {},
     "output_type": "display_data"
    }
   ],
   "source": [
    "ax = google.plot(color='r')\n",
    "ax.grid()\n",
    "ax.set_ylabel(search_volume_title)\n",
    "ax.legend((search_volume_title,), loc=2) #loc 2: upper left"
   ]
  },
  {
   "cell_type": "markdown",
   "metadata": {},
   "source": [
    "### 3. Merging data"
   ]
  },
  {
   "cell_type": "code",
   "execution_count": 8,
   "metadata": {},
   "outputs": [
    {
     "data": {
      "text/html": [
       "<div>\n",
       "<style>\n",
       "    .dataframe thead tr:only-child th {\n",
       "        text-align: right;\n",
       "    }\n",
       "\n",
       "    .dataframe thead th {\n",
       "        text-align: left;\n",
       "    }\n",
       "\n",
       "    .dataframe tbody tr th {\n",
       "        vertical-align: top;\n",
       "    }\n",
       "</style>\n",
       "<table border=\"1\" class=\"dataframe\">\n",
       "  <thead>\n",
       "    <tr style=\"text-align: right;\">\n",
       "      <th></th>\n",
       "      <th>bitcoin_price</th>\n",
       "      <th>search_volume</th>\n",
       "    </tr>\n",
       "    <tr>\n",
       "      <th>date</th>\n",
       "      <th></th>\n",
       "      <th></th>\n",
       "    </tr>\n",
       "  </thead>\n",
       "  <tbody>\n",
       "    <tr>\n",
       "      <th>2011-05-01</th>\n",
       "      <td>3.0331</td>\n",
       "      <td>0.704634</td>\n",
       "    </tr>\n",
       "    <tr>\n",
       "      <th>2011-05-02</th>\n",
       "      <td>3.2000</td>\n",
       "      <td>0.493244</td>\n",
       "    </tr>\n",
       "    <tr>\n",
       "      <th>2011-05-03</th>\n",
       "      <td>3.4100</td>\n",
       "      <td>0.493244</td>\n",
       "    </tr>\n",
       "    <tr>\n",
       "      <th>2011-05-04</th>\n",
       "      <td>3.4061</td>\n",
       "      <td>0.422781</td>\n",
       "    </tr>\n",
       "    <tr>\n",
       "      <th>2011-05-05</th>\n",
       "      <td>3.3330</td>\n",
       "      <td>0.493244</td>\n",
       "    </tr>\n",
       "  </tbody>\n",
       "</table>\n",
       "</div>"
      ],
      "text/plain": [
       "            bitcoin_price  search_volume\n",
       "date                                    \n",
       "2011-05-01         3.0331       0.704634\n",
       "2011-05-02         3.2000       0.493244\n",
       "2011-05-03         3.4100       0.493244\n",
       "2011-05-04         3.4061       0.422781\n",
       "2011-05-05         3.3330       0.493244"
      ]
     },
     "execution_count": 8,
     "metadata": {},
     "output_type": "execute_result"
    }
   ],
   "source": [
    "#merge data\n",
    "data = pandas.concat([bpi, google], axis=1)\n",
    "\n",
    "#output data\n",
    "data.head()"
   ]
  },
  {
   "cell_type": "code",
   "execution_count": 9,
   "metadata": {},
   "outputs": [
    {
     "data": {
      "text/plain": [
       "<matplotlib.text.Text at 0x1179c2d68>"
      ]
     },
     "execution_count": 9,
     "metadata": {},
     "output_type": "execute_result"
    },
    {
     "data": {
      "image/png": "[encoded data removed]",
      "text/plain": [
       "<matplotlib.figure.Figure at 0x117981940>"
      ]
     },
     "metadata": {},
     "output_type": "display_data"
    }
   ],
   "source": [
    "#plot data\n",
    "fig = matplotlib.pyplot.figure()\n",
    "ax = fig.add_subplot(111)\n",
    "ax.grid()\n",
    "lns1 = ax.plot(data.index, data.search_volume, label = search_volume_title, color ='r')\n",
    "ax2 = ax.twinx()\n",
    "lns2 = ax2.plot(data.index, data.bitcoin_price, label = bitcoin_title, color = 'b')\n",
    "\n",
    "lns = lns1+lns2\n",
    "labs = [l.get_label() for l in lns]\n",
    "ax.legend(lns, labs, loc=2)\n",
    "\n",
    "ax.set_xlabel(\"date\")\n",
    "\n",
    "ax.set_ylabel(search_volume_title)\n",
    "ax2.set_ylabel(bitcoin_title)"
   ]
  }
 ],
 "metadata": {
  "kernelspec": {
   "display_name": "Python 3",
   "language": "python",
   "name": "python3"
  },
  "language_info": {
   "codemirror_mode": {
    "name": "ipython",
    "version": 3
   },
   "file_extension": ".py",
   "mimetype": "text/x-python",
   "name": "python",
   "nbconvert_exporter": "python",
   "pygments_lexer": "ipython3",
   "version": "3.6.1"
  }
 },
 "nbformat": 4,
 "nbformat_minor": 2
}
